{
 "cells": [
  {
   "cell_type": "code",
   "execution_count": 4,
   "metadata": {},
   "outputs": [
    {
     "name": "stdout",
     "output_type": "stream",
     "text": [
      "EL factorial de 12 es: 479001600\n"
     ]
    }
   ],
   "source": [
    "# Desarrolle una aplicación que calcule el factorial de un numero entero introducido por teclado \n",
    "fac = int(input())\n",
    "fachelp = 1\n",
    "for f in range(1, fac + 1):\n",
    "    fachelp = fachelp * f\n",
    "print(\"EL factorial de \" + str(fac) + \" es: \" + str(fachelp))"
   ]
  },
  {
   "cell_type": "code",
   "execution_count": 17,
   "metadata": {},
   "outputs": [
    {
     "name": "stdout",
     "output_type": "stream",
     "text": [
      "El nuemro 5 es primo.\n"
     ]
    }
   ],
   "source": [
    "# Desarrolle una aplicación que determine si un numero introducido por teclado es primo o no  \n",
    "numprim = int(input())\n",
    "cont = 0\n",
    "for p in range(1, numprim + 1):\n",
    "    #print(p)\n",
    "    if numprim % p == 0:\n",
    "        cont +=1\n",
    "\n",
    "#print(cont)\n",
    "if numprim == 1:\n",
    "    print(\"El nuemro \" + str(numprim) + \" es primo.\")\n",
    "elif(cont == 2):\n",
    "    print(\"El nuemro \" + str(numprim) + \" es primo.\")\n",
    "else:\n",
    "    print(\"El nuemro \" + str(numprim) + \" no es primo.\")"
   ]
  },
  {
   "cell_type": "code",
   "execution_count": 33,
   "metadata": {},
   "outputs": [
    {
     "name": "stdout",
     "output_type": "stream",
     "text": [
      "2.0\n",
      "4.0\n",
      "1.0\n",
      "6.0\n",
      "8.0\n",
      "El numero mas bajo es 1.0\n",
      "El numero mas alto es 8.0\n"
     ]
    }
   ],
   "source": [
    "#  Desarrolle una aplicación que permita ingresar diferentes números por teclado con un limite definido inicialmente (no menor a 3 números) y determine cual de ellos es el mayor y el menor.\n",
    "numeros = 0\n",
    "while numeros <= 2:\n",
    "    numeros =  int(input())\n",
    "bajo=0\n",
    "alto=0\n",
    "for nums in range(0, numeros):\n",
    "    nuros = float(input())\n",
    "    print(nuros)\n",
    "    if(nums == 0):\n",
    "        bajo = nuros \n",
    "        alto = nuros\n",
    "    if(nuros > alto):\n",
    "        alto = nuros\n",
    "    if nuros < bajo:\n",
    "        bajo = nuros\n",
    "print(\"El numero mas bajo es \" + str(bajo))\n",
    "print(\"El numero mas alto es \" + str(alto))"
   ]
  },
  {
   "cell_type": "code",
   "execution_count": 39,
   "metadata": {},
   "outputs": [
    {
     "name": "stdout",
     "output_type": "stream",
     "text": [
      "oruro es un palindromo\n"
     ]
    }
   ],
   "source": [
    "#  Desarrolle una aplicación que permita identificar si una cadena introducida por teclado es un palíndromo\n",
    "palindromo = input()\n",
    "numerin = len(palindromo) - 1\n",
    "noes = 0 \n",
    "for se in range(0, len(palindromo)):\n",
    "    if palindromo[se] != palindromo[numerin]:\n",
    "        noes += 1\n",
    "    numerin = numerin - 1\n",
    "if noes == 0:\n",
    "    print(palindromo + \" es un palindromo\")\n",
    "else:\n",
    "    print(palindromo + \" no es un palindromo\")"
   ]
  },
  {
   "cell_type": "code",
   "execution_count": 59,
   "metadata": {},
   "outputs": [
    {
     "name": "stdout",
     "output_type": "stream",
     "text": [
      "4.0\n",
      "5.0\n",
      "3.0\n",
      "5.0\n",
      "6.0\n",
      "6.0\n",
      "5.0\n",
      "EL numero mas grande es 5.0 y se repite 3 veces\n"
     ]
    }
   ],
   "source": [
    "# desarrolle una aplicación que permita introducir 7 números por teclado y determine cual de ellos se repite más veces y cuantas\n",
    "\n",
    "nunus = [1,2,3,4,5,6,7]\n",
    "\n",
    "for ku in range(0, 7):\n",
    "    numerios = float(input())\n",
    "    nunus[ku] = numerios\n",
    "    print(numerios)\n",
    "\n",
    "nuh = 0\n",
    "reps = 0\n",
    "repet = 0\n",
    "for ju in range(0, 7):\n",
    "    for ku in range(0, 7):\n",
    "        if nunus[ju] == nunus[ku]:\n",
    "            repet +=1\n",
    "    if repet > reps:\n",
    "        nuh = nunus[ju]\n",
    "        reps = repet\n",
    "    repet = 0\n",
    "print(\"EL numero mas grande es \" + str(nuh) + \" y se repite \" + str(reps) + \" veces\")"
   ]
  },
  {
   "cell_type": "code",
   "execution_count": 70,
   "metadata": {},
   "outputs": [
    {
     "name": "stdout",
     "output_type": "stream",
     "text": [
      "valora\n",
      "alvaro\n",
      "Son un anagrama\n"
     ]
    }
   ],
   "source": [
    "# Desarrolla una aplicación que permita identificar si una palabra es un anagrama de otra (Bolo -Lobo) \n",
    "palabra1 = input()\n",
    "palabra2 = input()\n",
    "print(palabra1)\n",
    "print(palabra2)\n",
    "ayudin = 0\n",
    "falla = 0\n",
    "numerion1 = len(palabra1) \n",
    "numerion2 = len(palabra2)\n",
    "if numerion1 == numerion2:\n",
    "    for se in range(0, numerion1):\n",
    "        \n",
    "        for so in range(0, numerion2):\n",
    "            if palabra1[se] == palabra2[so]:\n",
    "                ayudin += 1\n",
    "            \n",
    "        \n",
    "        if ayudin == 0:\n",
    "            falla += 1\n",
    "    if falla == 0:\n",
    "        print(\"Son un anagrama\")\n",
    "    else:\n",
    "        print(\"No son un anagrama\")       \n",
    "else:\n",
    "    print(\"No es un anagrama\")       "
   ]
  },
  {
   "cell_type": "code",
   "execution_count": 69,
   "metadata": {},
   "outputs": [
    {
     "name": "stdout",
     "output_type": "stream",
     "text": [
      "[3, 3, 6, 7, 4, 2]\n"
     ]
    }
   ],
   "source": [
    "# Desarrolla una aplicación que ordene números a través del método burbuja\n",
    "lista = [4,2,6,3,7,3]\n",
    "j = 0 \n",
    "aux = 0\n",
    "for mir in range(0, len(lista)):\n",
    "    for mur in range(0, len(lista)):\n",
    "        if(j+1 != len(lista) ):\n",
    "            if(lista[mur] > lista[j + 1]):\n",
    "                aux = lista[mir]\n",
    "                lista[mir] = lista[j + 1]\n",
    "                lista[j + 1] = aux\n",
    "        j += 1\n",
    "    j = 0\n",
    "\n",
    "print(lista)\n"
   ]
  }
 ],
 "metadata": {
  "kernelspec": {
   "display_name": "env-InicioPython",
   "language": "python",
   "name": "python3"
  },
  "language_info": {
   "codemirror_mode": {
    "name": "ipython",
    "version": 3
   },
   "file_extension": ".py",
   "mimetype": "text/x-python",
   "name": "python",
   "nbconvert_exporter": "python",
   "pygments_lexer": "ipython3",
   "version": "3.12.1"
  }
 },
 "nbformat": 4,
 "nbformat_minor": 2
}
