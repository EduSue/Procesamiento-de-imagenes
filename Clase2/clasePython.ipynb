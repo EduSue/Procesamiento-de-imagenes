{
 "cells": [
  {
   "cell_type": "code",
   "execution_count": 1,
   "metadata": {},
   "outputs": [
    {
     "name": "stdout",
     "output_type": "stream",
     "text": [
      "Hola mundo\n"
     ]
    }
   ],
   "source": [
    "print(\"Hola mundo\")"
   ]
  },
  {
   "cell_type": "code",
   "execution_count": 2,
   "metadata": {},
   "outputs": [
    {
     "name": "stdout",
     "output_type": "stream",
     "text": [
      "Hola Mula\n"
     ]
    }
   ],
   "source": [
    "x=\"Mula\"\n",
    "print(\"Hola \" + x)"
   ]
  },
  {
   "cell_type": "code",
   "execution_count": 5,
   "metadata": {},
   "outputs": [
    {
     "name": "stdout",
     "output_type": "stream",
     "text": [
      "mi resultado es:\n",
      "6\n"
     ]
    }
   ],
   "source": [
    "saludo = 'mi resultado es:'\n",
    "print(saludo)\n",
    "mult = 2 * 3\n",
    "print(mult)"
   ]
  },
  {
   "cell_type": "code",
   "execution_count": 12,
   "metadata": {},
   "outputs": [
    {
     "name": "stdout",
     "output_type": "stream",
     "text": [
      "1\n",
      "2\n",
      "3\n",
      "4\n",
      "256\n"
     ]
    }
   ],
   "source": [
    "m = 0\n",
    "for i in range(0, 4):\n",
    "    m += 1\n",
    "    print(m)\n",
    "\n",
    "sum = 2 + 3\n",
    "a = 18%5\n",
    "abs(-7)\n",
    "float(9)\n",
    "int(11.7)\n",
    "complex(1, 5)\n",
    "w = 2 ** 8\n",
    "print(w)"
   ]
  },
  {
   "cell_type": "code",
   "execution_count": 4,
   "metadata": {},
   "outputs": [
    {
     "name": "stdout",
     "output_type": "stream",
     "text": [
      "1\n"
     ]
    }
   ],
   "source": [
    "# mi fibo\n",
    "h = input()\n",
    "h = float(h)\n",
    "if h == 1:\n",
    "    print(1)\n",
    "else:\n",
    "    o = 0\n",
    "    n = 0\n",
    "    m = 1\n",
    "    r = 0\n",
    "    while o < h:\n",
    "        r = n\n",
    "        n = n + m\n",
    "        m = r\n",
    "        o = o + 1\n",
    "        print(n)\n"
   ]
  },
  {
   "cell_type": "code",
   "execution_count": 15,
   "metadata": {},
   "outputs": [
    {
     "data": {
      "text/plain": [
       "4"
      ]
     },
     "execution_count": 15,
     "metadata": {},
     "output_type": "execute_result"
    }
   ],
   "source": [
    "# su fibo\n",
    "fin = 0\n",
    "n1 , n2 = 0, 1\n",
    "n = int(input())\n",
    "while n1 < n:\n",
    "    if n1 % 2 == 0:\n",
    "        fin = fin + n2\n",
    "    n1, n2 = n2, n1 + n2\n",
    "    #print(fin)\n",
    "fin"
   ]
  },
  {
   "cell_type": "code",
   "execution_count": 17,
   "metadata": {},
   "outputs": [
    {
     "name": "stdout",
     "output_type": "stream",
     "text": [
      "Su nombre es Juan\n"
     ]
    }
   ],
   "source": [
    "j = input(\"Escriba su nombre\")\n",
    "print(\"Su nombre es \" + j)"
   ]
  },
  {
   "cell_type": "code",
   "execution_count": 20,
   "metadata": {},
   "outputs": [
    {
     "name": "stdout",
     "output_type": "stream",
     "text": [
      "El area del rectangulo es: 12.0\n",
      "El perimetro del rectangulo es: 14.0\n"
     ]
    }
   ],
   "source": [
    "#Realize un ejercicio que calcule el Area y perimetro de una figura con datos introducidos por teclado\n",
    "l1 = float(input(\"Ingrese un lado 1 del rectangulo: \"))\n",
    "l2 = float(input(\"Ingrese un lado 2 del rectangulo: \"))\n",
    "area = l1 * l2\n",
    "perimetro = (l1 * 2) + (l2 * 2) \n",
    "print(\"El area del rectangulo es: \" + str(area))\n",
    "print(\"El perimetro del rectangulo es: \" + str(perimetro))"
   ]
  },
  {
   "cell_type": "code",
   "execution_count": 23,
   "metadata": {},
   "outputs": [
    {
     "name": "stdout",
     "output_type": "stream",
     "text": [
      "Hola \n",
      "Hola \n",
      "Hola \n",
      "Hola \n",
      "Hola  Hola  Hola  Hola  \n"
     ]
    }
   ],
   "source": [
    "a = input(\"Introduzca una palabra: \")\n",
    "b = input(\"Cantidad de veces de repeticion: \")\n",
    "for k in range(0, int(b)):\n",
    "    print(a)\n",
    "print((a + \" \") * int(b))"
   ]
  },
  {
   "cell_type": "code",
   "execution_count": 30,
   "metadata": {},
   "outputs": [
    {
     "name": "stdout",
     "output_type": "stream",
     "text": [
      "nUncA\n"
     ]
    }
   ],
   "source": [
    "# Realizar un codigo en python que permita introducir por teclado que identifique su vocales y las convierta en mayuscula\n",
    "nuevaPalabra = \"\"\n",
    "palabra = input(\"Introduzca la palbra: \")\n",
    "# print(len(palabra))\n",
    "for pali in range(0, len(palabra)):\n",
    "    if palabra[pali] == \"a\" or palabra[pali] == \"e\" or palabra[pali] == \"i\" or palabra[pali] == \"o\" or palabra[pali] == \"u\":\n",
    "          nuevaPalabra = nuevaPalabra + palabra[pali].upper()\n",
    "    else:\n",
    "         nuevaPalabra = nuevaPalabra + palabra[pali]\n",
    "print(nuevaPalabra)"
   ]
  }
 ],
 "metadata": {
  "kernelspec": {
   "display_name": "env-InicioPython",
   "language": "python",
   "name": "python3"
  },
  "language_info": {
   "codemirror_mode": {
    "name": "ipython",
    "version": 3
   },
   "file_extension": ".py",
   "mimetype": "text/x-python",
   "name": "python",
   "nbconvert_exporter": "python",
   "pygments_lexer": "ipython3",
   "version": "3.12.1"
  }
 },
 "nbformat": 4,
 "nbformat_minor": 2
}
